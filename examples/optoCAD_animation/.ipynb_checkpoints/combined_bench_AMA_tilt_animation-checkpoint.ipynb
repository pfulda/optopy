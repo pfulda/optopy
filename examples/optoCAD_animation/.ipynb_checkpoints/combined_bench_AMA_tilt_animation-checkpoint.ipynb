{
 "cells": [
  {
   "cell_type": "code",
   "execution_count": 2,
   "metadata": {},
   "outputs": [],
   "source": [
    "import pylab as pl\n",
    "import optopy\n",
    "import os"
   ]
  },
  {
   "cell_type": "code",
   "execution_count": null,
   "metadata": {},
   "outputs": [],
   "source": [
    "# maxtilt is 60 microrad converted to degrees\n",
    "maxtilt=60e-4*180/pl.pi\n",
    "\n",
    "midtilt=-90.0\n",
    "ntilts=41\n",
    "upangs=pl.linspace(midtilt-maxtilt,midtilt+maxtilt,ntilts)\n",
    "downangs=upangs[::-1]\n",
    "angs=pl.concatenate((upangs,downangs))\n",
    "\n",
    "ocdfile='CombinedOpticalBenchWedged.f90'\n",
    "\n",
    "test=open(ocdfile,'r')\n",
    "testlines=test.readlines()\n",
    "\n",
    "\n",
    "\n"
   ]
  },
  {
   "cell_type": "code",
   "execution_count": 2,
   "metadata": {},
   "outputs": [],
   "source": [
    "os.system('rm animation/*.pdf')\n",
    "\n",
    "for n,ang in enumerate(angs):\n",
    "    AMAstring=\"ocd(12)='d r, 124.600, 122.400, 10.0, \"+str(ang)+\" # W1 @-4,-10'\"\n",
    "    newlines=optopy.replace_lines(ocdfile,[35],[AMAstring])\n",
    "    ident=str(n)\n",
    "    ident=ident.rjust(2,'0')\n",
    "    fname='temp'+ident\n",
    "    fnamesub='animation/'+fname\n",
    "    \n",
    "    fid=open(fname+'.f90','w')\n",
    "    for line in newlines:\n",
    "        fid.write(line)\n",
    "    fid.close()\n",
    "    \n",
    "    bashcmd='occr '+fname+'.f90'+'\\nps2pdf '+fname+'.ps '+fnamesub+'.pdf\\n'+' rm '+fname+'*'\n",
    "    \n",
    "    os.system(bashcmd)"
   ]
  },
  {
   "cell_type": "code",
   "execution_count": 3,
   "metadata": {},
   "outputs": [],
   "source": [
    "cap = ! gs -dBATCH -dNOPAUSE -q -sDEVICE=pdfwrite -sOutputFile=multi.pdf animation/*.pdf\n",
    "cap =! convert -verbose -delay 15 -loop 0 -density 150 multi.pdf animation.gif\n",
    "\n",
    "# ! for X in OpticalBenchv2*; do [ \"$X\" != \"OpticalBenchv2.f90\" ] && rm \"$X\"; done\n",
    "# ! rm multi.pdf"
   ]
  },
  {
   "cell_type": "code",
   "execution_count": 15,
   "metadata": {},
   "outputs": [
    {
     "name": "stdout",
     "output_type": "stream",
     "text": [
      "['/bin/bash: convert: command not found']\n"
     ]
    }
   ],
   "source": [
    "print cap"
   ]
  },
  {
   "cell_type": "code",
   "execution_count": null,
   "metadata": {},
   "outputs": [],
   "source": []
  }
 ],
 "metadata": {
  "kernelspec": {
   "display_name": "Python 2",
   "language": "python",
   "name": "python2"
  },
  "language_info": {
   "codemirror_mode": {
    "name": "ipython",
    "version": 2
   },
   "file_extension": ".py",
   "mimetype": "text/x-python",
   "name": "python",
   "nbconvert_exporter": "python",
   "pygments_lexer": "ipython2",
   "version": "2.7.14"
  }
 },
 "nbformat": 4,
 "nbformat_minor": 2
}
